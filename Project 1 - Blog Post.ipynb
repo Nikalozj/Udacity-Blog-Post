{
 "cells": [
  {
   "cell_type": "code",
   "execution_count": 1,
   "metadata": {},
   "outputs": [],
   "source": [
    "#BUSINESS & DATA UNDERSTANDING\n",
    "\n",
    "#We are analyzing Stack Overflow's 2017 Survey data to answer several questions about one of the most popular jobs all over\n",
    "#the world - software developer. The quesations are:\n",
    "#1. Is it better to work remotely?\n",
    "#2. How does Company Size relate to Job Satisfaction and Salary?\n",
    "#3. What to assess in potential jobs?"
   ]
  },
  {
   "cell_type": "code",
   "execution_count": 2,
   "metadata": {},
   "outputs": [
    {
     "data": {
      "text/html": [
       "<div>\n",
       "<style scoped>\n",
       "    .dataframe tbody tr th:only-of-type {\n",
       "        vertical-align: middle;\n",
       "    }\n",
       "\n",
       "    .dataframe tbody tr th {\n",
       "        vertical-align: top;\n",
       "    }\n",
       "\n",
       "    .dataframe thead th {\n",
       "        text-align: right;\n",
       "    }\n",
       "</style>\n",
       "<table border=\"1\" class=\"dataframe\">\n",
       "  <thead>\n",
       "    <tr style=\"text-align: right;\">\n",
       "      <th></th>\n",
       "      <th>Respondent</th>\n",
       "      <th>Professional</th>\n",
       "      <th>ProgramHobby</th>\n",
       "      <th>Country</th>\n",
       "      <th>University</th>\n",
       "      <th>EmploymentStatus</th>\n",
       "      <th>FormalEducation</th>\n",
       "      <th>MajorUndergrad</th>\n",
       "      <th>HomeRemote</th>\n",
       "      <th>CompanySize</th>\n",
       "      <th>...</th>\n",
       "      <th>StackOverflowMakeMoney</th>\n",
       "      <th>Gender</th>\n",
       "      <th>HighestEducationParents</th>\n",
       "      <th>Race</th>\n",
       "      <th>SurveyLong</th>\n",
       "      <th>QuestionsInteresting</th>\n",
       "      <th>QuestionsConfusing</th>\n",
       "      <th>InterestedAnswers</th>\n",
       "      <th>Salary</th>\n",
       "      <th>ExpectedSalary</th>\n",
       "    </tr>\n",
       "  </thead>\n",
       "  <tbody>\n",
       "    <tr>\n",
       "      <th>0</th>\n",
       "      <td>1</td>\n",
       "      <td>Student</td>\n",
       "      <td>Yes, both</td>\n",
       "      <td>United States</td>\n",
       "      <td>No</td>\n",
       "      <td>Not employed, and not looking for work</td>\n",
       "      <td>Secondary school</td>\n",
       "      <td>NaN</td>\n",
       "      <td>NaN</td>\n",
       "      <td>NaN</td>\n",
       "      <td>...</td>\n",
       "      <td>Strongly disagree</td>\n",
       "      <td>Male</td>\n",
       "      <td>High school</td>\n",
       "      <td>White or of European descent</td>\n",
       "      <td>Strongly disagree</td>\n",
       "      <td>Strongly agree</td>\n",
       "      <td>Disagree</td>\n",
       "      <td>Strongly agree</td>\n",
       "      <td>NaN</td>\n",
       "      <td>NaN</td>\n",
       "    </tr>\n",
       "    <tr>\n",
       "      <th>1</th>\n",
       "      <td>2</td>\n",
       "      <td>Student</td>\n",
       "      <td>Yes, both</td>\n",
       "      <td>United Kingdom</td>\n",
       "      <td>Yes, full-time</td>\n",
       "      <td>Employed part-time</td>\n",
       "      <td>Some college/university study without earning ...</td>\n",
       "      <td>Computer science or software engineering</td>\n",
       "      <td>More than half, but not all, the time</td>\n",
       "      <td>20 to 99 employees</td>\n",
       "      <td>...</td>\n",
       "      <td>Strongly disagree</td>\n",
       "      <td>Male</td>\n",
       "      <td>A master's degree</td>\n",
       "      <td>White or of European descent</td>\n",
       "      <td>Somewhat agree</td>\n",
       "      <td>Somewhat agree</td>\n",
       "      <td>Disagree</td>\n",
       "      <td>Strongly agree</td>\n",
       "      <td>NaN</td>\n",
       "      <td>37500.0</td>\n",
       "    </tr>\n",
       "    <tr>\n",
       "      <th>2</th>\n",
       "      <td>3</td>\n",
       "      <td>Professional developer</td>\n",
       "      <td>Yes, both</td>\n",
       "      <td>United Kingdom</td>\n",
       "      <td>No</td>\n",
       "      <td>Employed full-time</td>\n",
       "      <td>Bachelor's degree</td>\n",
       "      <td>Computer science or software engineering</td>\n",
       "      <td>Less than half the time, but at least one day ...</td>\n",
       "      <td>10,000 or more employees</td>\n",
       "      <td>...</td>\n",
       "      <td>Disagree</td>\n",
       "      <td>Male</td>\n",
       "      <td>A professional degree</td>\n",
       "      <td>White or of European descent</td>\n",
       "      <td>Somewhat agree</td>\n",
       "      <td>Agree</td>\n",
       "      <td>Disagree</td>\n",
       "      <td>Agree</td>\n",
       "      <td>113750.0</td>\n",
       "      <td>NaN</td>\n",
       "    </tr>\n",
       "    <tr>\n",
       "      <th>3</th>\n",
       "      <td>4</td>\n",
       "      <td>Professional non-developer who sometimes write...</td>\n",
       "      <td>Yes, both</td>\n",
       "      <td>United States</td>\n",
       "      <td>No</td>\n",
       "      <td>Employed full-time</td>\n",
       "      <td>Doctoral degree</td>\n",
       "      <td>A non-computer-focused engineering discipline</td>\n",
       "      <td>Less than half the time, but at least one day ...</td>\n",
       "      <td>10,000 or more employees</td>\n",
       "      <td>...</td>\n",
       "      <td>Disagree</td>\n",
       "      <td>Male</td>\n",
       "      <td>A doctoral degree</td>\n",
       "      <td>White or of European descent</td>\n",
       "      <td>Agree</td>\n",
       "      <td>Agree</td>\n",
       "      <td>Somewhat agree</td>\n",
       "      <td>Strongly agree</td>\n",
       "      <td>NaN</td>\n",
       "      <td>NaN</td>\n",
       "    </tr>\n",
       "    <tr>\n",
       "      <th>4</th>\n",
       "      <td>5</td>\n",
       "      <td>Professional developer</td>\n",
       "      <td>Yes, I program as a hobby</td>\n",
       "      <td>Switzerland</td>\n",
       "      <td>No</td>\n",
       "      <td>Employed full-time</td>\n",
       "      <td>Master's degree</td>\n",
       "      <td>Computer science or software engineering</td>\n",
       "      <td>Never</td>\n",
       "      <td>10 to 19 employees</td>\n",
       "      <td>...</td>\n",
       "      <td>NaN</td>\n",
       "      <td>NaN</td>\n",
       "      <td>NaN</td>\n",
       "      <td>NaN</td>\n",
       "      <td>NaN</td>\n",
       "      <td>NaN</td>\n",
       "      <td>NaN</td>\n",
       "      <td>NaN</td>\n",
       "      <td>NaN</td>\n",
       "      <td>NaN</td>\n",
       "    </tr>\n",
       "  </tbody>\n",
       "</table>\n",
       "<p>5 rows × 154 columns</p>\n",
       "</div>"
      ],
      "text/plain": [
       "   Respondent                                       Professional  \\\n",
       "0           1                                            Student   \n",
       "1           2                                            Student   \n",
       "2           3                             Professional developer   \n",
       "3           4  Professional non-developer who sometimes write...   \n",
       "4           5                             Professional developer   \n",
       "\n",
       "                ProgramHobby         Country      University  \\\n",
       "0                  Yes, both   United States              No   \n",
       "1                  Yes, both  United Kingdom  Yes, full-time   \n",
       "2                  Yes, both  United Kingdom              No   \n",
       "3                  Yes, both   United States              No   \n",
       "4  Yes, I program as a hobby     Switzerland              No   \n",
       "\n",
       "                         EmploymentStatus  \\\n",
       "0  Not employed, and not looking for work   \n",
       "1                      Employed part-time   \n",
       "2                      Employed full-time   \n",
       "3                      Employed full-time   \n",
       "4                      Employed full-time   \n",
       "\n",
       "                                     FormalEducation  \\\n",
       "0                                   Secondary school   \n",
       "1  Some college/university study without earning ...   \n",
       "2                                  Bachelor's degree   \n",
       "3                                    Doctoral degree   \n",
       "4                                    Master's degree   \n",
       "\n",
       "                                  MajorUndergrad  \\\n",
       "0                                            NaN   \n",
       "1       Computer science or software engineering   \n",
       "2       Computer science or software engineering   \n",
       "3  A non-computer-focused engineering discipline   \n",
       "4       Computer science or software engineering   \n",
       "\n",
       "                                          HomeRemote  \\\n",
       "0                                                NaN   \n",
       "1              More than half, but not all, the time   \n",
       "2  Less than half the time, but at least one day ...   \n",
       "3  Less than half the time, but at least one day ...   \n",
       "4                                              Never   \n",
       "\n",
       "                CompanySize       ...       StackOverflowMakeMoney Gender  \\\n",
       "0                       NaN       ...            Strongly disagree   Male   \n",
       "1        20 to 99 employees       ...            Strongly disagree   Male   \n",
       "2  10,000 or more employees       ...                     Disagree   Male   \n",
       "3  10,000 or more employees       ...                     Disagree   Male   \n",
       "4        10 to 19 employees       ...                          NaN    NaN   \n",
       "\n",
       "  HighestEducationParents                          Race         SurveyLong  \\\n",
       "0             High school  White or of European descent  Strongly disagree   \n",
       "1       A master's degree  White or of European descent     Somewhat agree   \n",
       "2   A professional degree  White or of European descent     Somewhat agree   \n",
       "3       A doctoral degree  White or of European descent              Agree   \n",
       "4                     NaN                           NaN                NaN   \n",
       "\n",
       "  QuestionsInteresting QuestionsConfusing InterestedAnswers    Salary  \\\n",
       "0       Strongly agree           Disagree    Strongly agree       NaN   \n",
       "1       Somewhat agree           Disagree    Strongly agree       NaN   \n",
       "2                Agree           Disagree             Agree  113750.0   \n",
       "3                Agree     Somewhat agree    Strongly agree       NaN   \n",
       "4                  NaN                NaN               NaN       NaN   \n",
       "\n",
       "   ExpectedSalary  \n",
       "0             NaN  \n",
       "1         37500.0  \n",
       "2             NaN  \n",
       "3             NaN  \n",
       "4             NaN  \n",
       "\n",
       "[5 rows x 154 columns]"
      ]
     },
     "execution_count": 2,
     "metadata": {},
     "output_type": "execute_result"
    }
   ],
   "source": [
    "#First let's import all the necessary libraries\n",
    "import numpy as np\n",
    "import pandas as pd\n",
    "import matplotlib.pyplot as plt\n",
    "%matplotlib inline\n",
    "import seaborn as sns\n",
    "\n",
    "#Import the data\n",
    "df = pd.read_csv('./survey_results_public.csv')\n",
    "\n",
    "#and check what the data looks like\n",
    "df.head()"
   ]
  },
  {
   "cell_type": "code",
   "execution_count": 3,
   "metadata": {},
   "outputs": [
    {
     "data": {
      "text/plain": [
       "(19102, 154)"
      ]
     },
     "execution_count": 3,
     "metadata": {},
     "output_type": "execute_result"
    }
   ],
   "source": [
    "#Check the shape\n",
    "df.shape"
   ]
  },
  {
   "cell_type": "code",
   "execution_count": 4,
   "metadata": {},
   "outputs": [],
   "source": [
    "#It looks like we have nearly 150 different questions, but we don't need all of them.\n",
    "#Lets start the next phase of CRISP-DM Process to leave only the data we need:\n",
    "\n",
    "#DATA PREPARATION\n"
   ]
  },
  {
   "cell_type": "code",
   "execution_count": 5,
   "metadata": {},
   "outputs": [
    {
     "name": "stderr",
     "output_type": "stream",
     "text": [
      "/opt/conda/lib/python3.6/site-packages/ipykernel_launcher.py:6: SettingWithCopyWarning: \n",
      "A value is trying to be set on a copy of a slice from a DataFrame.\n",
      "Try using .loc[row_indexer,col_indexer] = value instead\n",
      "\n",
      "See the caveats in the documentation: http://pandas.pydata.org/pandas-docs/stable/indexing.html#indexing-view-versus-copy\n",
      "  \n"
     ]
    }
   ],
   "source": [
    "# Create new dataframe with only the columns we need\n",
    "sat_df = df[['Professional','JobSatisfaction', 'HomeRemote', 'CompanySize','Salary']]\n",
    "\n",
    "#All the columns we need have \"Assess\" in their name, so we can add them using loop:\n",
    "for col in list(df.columns):\n",
    "    if \"Assess\" in col:\n",
    "        sat_df[col]=df[col]\n",
    "\n",
    "#this loop will also add 'MetricAssess' column which we don't need but we'll drop it soon\n"
   ]
  },
  {
   "cell_type": "code",
   "execution_count": 6,
   "metadata": {},
   "outputs": [
    {
     "data": {
      "text/html": [
       "<div>\n",
       "<style scoped>\n",
       "    .dataframe tbody tr th:only-of-type {\n",
       "        vertical-align: middle;\n",
       "    }\n",
       "\n",
       "    .dataframe tbody tr th {\n",
       "        vertical-align: top;\n",
       "    }\n",
       "\n",
       "    .dataframe thead th {\n",
       "        text-align: right;\n",
       "    }\n",
       "</style>\n",
       "<table border=\"1\" class=\"dataframe\">\n",
       "  <thead>\n",
       "    <tr style=\"text-align: right;\">\n",
       "      <th></th>\n",
       "      <th>Professional</th>\n",
       "      <th>JobSatisfaction</th>\n",
       "      <th>HomeRemote</th>\n",
       "      <th>CompanySize</th>\n",
       "      <th>Salary</th>\n",
       "      <th>AssessJobIndustry</th>\n",
       "      <th>AssessJobRole</th>\n",
       "      <th>AssessJobExp</th>\n",
       "      <th>AssessJobDept</th>\n",
       "      <th>AssessJobTech</th>\n",
       "      <th>...</th>\n",
       "      <th>AssessJobCompensation</th>\n",
       "      <th>AssessJobOffice</th>\n",
       "      <th>AssessJobCommute</th>\n",
       "      <th>AssessJobRemote</th>\n",
       "      <th>AssessJobLeaders</th>\n",
       "      <th>AssessJobProfDevel</th>\n",
       "      <th>AssessJobDiversity</th>\n",
       "      <th>AssessJobProduct</th>\n",
       "      <th>AssessJobFinances</th>\n",
       "      <th>MetricAssess</th>\n",
       "    </tr>\n",
       "  </thead>\n",
       "  <tbody>\n",
       "    <tr>\n",
       "      <th>0</th>\n",
       "      <td>Student</td>\n",
       "      <td>NaN</td>\n",
       "      <td>NaN</td>\n",
       "      <td>NaN</td>\n",
       "      <td>NaN</td>\n",
       "      <td>Very important</td>\n",
       "      <td>Very important</td>\n",
       "      <td>Important</td>\n",
       "      <td>Very important</td>\n",
       "      <td>Very important</td>\n",
       "      <td>...</td>\n",
       "      <td>Important</td>\n",
       "      <td>Very important</td>\n",
       "      <td>Very important</td>\n",
       "      <td>Very important</td>\n",
       "      <td>Very important</td>\n",
       "      <td>Very important</td>\n",
       "      <td>Somewhat important</td>\n",
       "      <td>Not very important</td>\n",
       "      <td>Somewhat important</td>\n",
       "      <td>NaN</td>\n",
       "    </tr>\n",
       "    <tr>\n",
       "      <th>1</th>\n",
       "      <td>Student</td>\n",
       "      <td>NaN</td>\n",
       "      <td>More than half, but not all, the time</td>\n",
       "      <td>20 to 99 employees</td>\n",
       "      <td>NaN</td>\n",
       "      <td>NaN</td>\n",
       "      <td>NaN</td>\n",
       "      <td>NaN</td>\n",
       "      <td>NaN</td>\n",
       "      <td>NaN</td>\n",
       "      <td>...</td>\n",
       "      <td>NaN</td>\n",
       "      <td>NaN</td>\n",
       "      <td>NaN</td>\n",
       "      <td>NaN</td>\n",
       "      <td>NaN</td>\n",
       "      <td>NaN</td>\n",
       "      <td>NaN</td>\n",
       "      <td>NaN</td>\n",
       "      <td>NaN</td>\n",
       "      <td>Customer satisfaction; On time/in budget; Peer...</td>\n",
       "    </tr>\n",
       "    <tr>\n",
       "      <th>2</th>\n",
       "      <td>Professional developer</td>\n",
       "      <td>9.0</td>\n",
       "      <td>Less than half the time, but at least one day ...</td>\n",
       "      <td>10,000 or more employees</td>\n",
       "      <td>113750.0</td>\n",
       "      <td>NaN</td>\n",
       "      <td>NaN</td>\n",
       "      <td>NaN</td>\n",
       "      <td>NaN</td>\n",
       "      <td>NaN</td>\n",
       "      <td>...</td>\n",
       "      <td>NaN</td>\n",
       "      <td>NaN</td>\n",
       "      <td>NaN</td>\n",
       "      <td>NaN</td>\n",
       "      <td>NaN</td>\n",
       "      <td>NaN</td>\n",
       "      <td>NaN</td>\n",
       "      <td>NaN</td>\n",
       "      <td>NaN</td>\n",
       "      <td>Customer satisfaction; Benchmarked product per...</td>\n",
       "    </tr>\n",
       "    <tr>\n",
       "      <th>3</th>\n",
       "      <td>Professional non-developer who sometimes write...</td>\n",
       "      <td>3.0</td>\n",
       "      <td>Less than half the time, but at least one day ...</td>\n",
       "      <td>10,000 or more employees</td>\n",
       "      <td>NaN</td>\n",
       "      <td>Somewhat important</td>\n",
       "      <td>Somewhat important</td>\n",
       "      <td>Somewhat important</td>\n",
       "      <td>Important</td>\n",
       "      <td>Important</td>\n",
       "      <td>...</td>\n",
       "      <td>Important</td>\n",
       "      <td>Very important</td>\n",
       "      <td>Important</td>\n",
       "      <td>Somewhat important</td>\n",
       "      <td>Not very important</td>\n",
       "      <td>Very important</td>\n",
       "      <td>Important</td>\n",
       "      <td>Very important</td>\n",
       "      <td>Very important</td>\n",
       "      <td>NaN</td>\n",
       "    </tr>\n",
       "    <tr>\n",
       "      <th>4</th>\n",
       "      <td>Professional developer</td>\n",
       "      <td>8.0</td>\n",
       "      <td>Never</td>\n",
       "      <td>10 to 19 employees</td>\n",
       "      <td>NaN</td>\n",
       "      <td>NaN</td>\n",
       "      <td>NaN</td>\n",
       "      <td>NaN</td>\n",
       "      <td>NaN</td>\n",
       "      <td>NaN</td>\n",
       "      <td>...</td>\n",
       "      <td>NaN</td>\n",
       "      <td>NaN</td>\n",
       "      <td>NaN</td>\n",
       "      <td>NaN</td>\n",
       "      <td>NaN</td>\n",
       "      <td>NaN</td>\n",
       "      <td>NaN</td>\n",
       "      <td>NaN</td>\n",
       "      <td>NaN</td>\n",
       "      <td>NaN</td>\n",
       "    </tr>\n",
       "  </tbody>\n",
       "</table>\n",
       "<p>5 rows × 21 columns</p>\n",
       "</div>"
      ],
      "text/plain": [
       "                                        Professional  JobSatisfaction  \\\n",
       "0                                            Student              NaN   \n",
       "1                                            Student              NaN   \n",
       "2                             Professional developer              9.0   \n",
       "3  Professional non-developer who sometimes write...              3.0   \n",
       "4                             Professional developer              8.0   \n",
       "\n",
       "                                          HomeRemote  \\\n",
       "0                                                NaN   \n",
       "1              More than half, but not all, the time   \n",
       "2  Less than half the time, but at least one day ...   \n",
       "3  Less than half the time, but at least one day ...   \n",
       "4                                              Never   \n",
       "\n",
       "                CompanySize    Salary   AssessJobIndustry       AssessJobRole  \\\n",
       "0                       NaN       NaN      Very important      Very important   \n",
       "1        20 to 99 employees       NaN                 NaN                 NaN   \n",
       "2  10,000 or more employees  113750.0                 NaN                 NaN   \n",
       "3  10,000 or more employees       NaN  Somewhat important  Somewhat important   \n",
       "4        10 to 19 employees       NaN                 NaN                 NaN   \n",
       "\n",
       "         AssessJobExp   AssessJobDept   AssessJobTech  \\\n",
       "0           Important  Very important  Very important   \n",
       "1                 NaN             NaN             NaN   \n",
       "2                 NaN             NaN             NaN   \n",
       "3  Somewhat important       Important       Important   \n",
       "4                 NaN             NaN             NaN   \n",
       "\n",
       "                         ...                         AssessJobCompensation  \\\n",
       "0                        ...                                     Important   \n",
       "1                        ...                                           NaN   \n",
       "2                        ...                                           NaN   \n",
       "3                        ...                                     Important   \n",
       "4                        ...                                           NaN   \n",
       "\n",
       "  AssessJobOffice AssessJobCommute     AssessJobRemote    AssessJobLeaders  \\\n",
       "0  Very important   Very important      Very important      Very important   \n",
       "1             NaN              NaN                 NaN                 NaN   \n",
       "2             NaN              NaN                 NaN                 NaN   \n",
       "3  Very important        Important  Somewhat important  Not very important   \n",
       "4             NaN              NaN                 NaN                 NaN   \n",
       "\n",
       "  AssessJobProfDevel  AssessJobDiversity    AssessJobProduct  \\\n",
       "0     Very important  Somewhat important  Not very important   \n",
       "1                NaN                 NaN                 NaN   \n",
       "2                NaN                 NaN                 NaN   \n",
       "3     Very important           Important      Very important   \n",
       "4                NaN                 NaN                 NaN   \n",
       "\n",
       "    AssessJobFinances                                       MetricAssess  \n",
       "0  Somewhat important                                                NaN  \n",
       "1                 NaN  Customer satisfaction; On time/in budget; Peer...  \n",
       "2                 NaN  Customer satisfaction; Benchmarked product per...  \n",
       "3      Very important                                                NaN  \n",
       "4                 NaN                                                NaN  \n",
       "\n",
       "[5 rows x 21 columns]"
      ]
     },
     "execution_count": 6,
     "metadata": {},
     "output_type": "execute_result"
    }
   ],
   "source": [
    "sat_df.head()"
   ]
  },
  {
   "cell_type": "code",
   "execution_count": 7,
   "metadata": {},
   "outputs": [],
   "source": [
    "#We only need to analyze professional developers, so we apply filter to 'Professional' column\n",
    "sat_df = sat_df[sat_df['Professional']=='Professional developer']"
   ]
  },
  {
   "cell_type": "code",
   "execution_count": 8,
   "metadata": {},
   "outputs": [],
   "source": [
    "#Drop unnecessary columns:\n",
    "#'Metricassess' - which was added previously by our loop;\n",
    "#'Professional' - cause there're only 'Professional Developers'\n",
    "sat_df.drop(['MetricAssess','Professional'], axis=1, inplace=True)"
   ]
  },
  {
   "cell_type": "code",
   "execution_count": 9,
   "metadata": {},
   "outputs": [
    {
     "data": {
      "text/plain": [
       "JobSatisfaction           412\n",
       "HomeRemote                299\n",
       "CompanySize              1665\n",
       "Salary                   8765\n",
       "AssessJobIndustry        7465\n",
       "AssessJobRole            7461\n",
       "AssessJobExp             7467\n",
       "AssessJobDept            7476\n",
       "AssessJobTech            7453\n",
       "AssessJobProjects        7453\n",
       "AssessJobCompensation    7459\n",
       "AssessJobOffice          7515\n",
       "AssessJobCommute         7511\n",
       "AssessJobRemote          7500\n",
       "AssessJobLeaders         7515\n",
       "AssessJobProfDevel       7507\n",
       "AssessJobDiversity       7520\n",
       "AssessJobProduct         7517\n",
       "AssessJobFinances        7503\n",
       "dtype: int64"
      ]
     },
     "execution_count": 9,
     "metadata": {},
     "output_type": "execute_result"
    }
   ],
   "source": [
    "#Check nulls\n",
    "sat_df.isna().sum()"
   ]
  },
  {
   "cell_type": "code",
   "execution_count": 10,
   "metadata": {},
   "outputs": [],
   "source": [
    "#So JobSatisfaction is our Target column so we can just delete all 412 rows where the column is null\n",
    "sat_df.dropna(subset=['JobSatisfaction'],inplace=True)\n",
    "\n",
    "#There are 18 null values left in HomeRemote column and we might drop them as well\n",
    "sat_df.dropna(subset=['HomeRemote'],inplace=True)"
   ]
  },
  {
   "cell_type": "code",
   "execution_count": null,
   "metadata": {},
   "outputs": [],
   "source": [
    "#We can now start answering Questions:\n",
    "\n",
    "#1. Is it better to work remotely?\n",
    "\n",
    "#For this we check average satisfaction rating for groupsin HomeRemote"
   ]
  },
  {
   "cell_type": "code",
   "execution_count": 11,
   "metadata": {},
   "outputs": [],
   "source": [
    "#but first, HomeRemote column has too many distinct values, so we create new column - 'corrHomeRemote' to create larger groups\n",
    "sat_df['corrHomeRemote']=np.where(sat_df['HomeRemote']==\"All or almost all the time (I'm full-time remote)\",'Always',\n",
    "                                 np.where(sat_df['HomeRemote']==\"Never\", \"Never\",\n",
    "                                         np.where(sat_df['HomeRemote']==\"It's complicated\",\"It's complicated\", \"Sometimes\")))\n",
    "\n",
    "#Get average JobSatisfaction Rating for each corrHomeRemote group and sort them\n",
    "home_remote_avg = sat_df[['corrHomeRemote','JobSatisfaction']].groupby(['corrHomeRemote']).mean()\n",
    "home_remote_avg.sort_values(by='JobSatisfaction', ascending=False, inplace=True)"
   ]
  },
  {
   "cell_type": "code",
   "execution_count": 12,
   "metadata": {},
   "outputs": [
    {
     "data": {
      "text/plain": [
       "(array([0, 1, 2, 3]), <a list of 4 Text xticklabel objects>)"
      ]
     },
     "execution_count": 12,
     "metadata": {},
     "output_type": "execute_result"
    },
    {
     "data": {
      "image/png": "[encoded data removed]",
      "text/plain": [
       "<matplotlib.figure.Figure at 0x7fcd21e7c550>"
      ]
     },
     "metadata": {
      "needs_background": "light"
     },
     "output_type": "display_data"
    }
   ],
   "source": [
    "#Plot JobSatisfaction rating averages\n",
    "home_remote_avg.plot(kind='bar').xaxis.set_label_text(\"\")\n",
    "plt.title(\"How often do you work from Home or Remotely?\")\n",
    "plt.ylim(top=8)\n",
    "plt.ylim(bottom=5)\n",
    "plt.xticks(rotation='horizontal')"
   ]
  },
  {
   "cell_type": "code",
   "execution_count": null,
   "metadata": {},
   "outputs": [],
   "source": [
    "#It looks like developers who work remotely have relatively higher average satisfaction ration then those who don't"
   ]
  },
  {
   "cell_type": "code",
   "execution_count": null,
   "metadata": {},
   "outputs": [],
   "source": [
    "#Now we can proceed to our second qustion:\n",
    "\n",
    "#2. How does Company Size relate to Job Satisfaction and Salary?"
   ]
  },
  {
   "cell_type": "code",
   "execution_count": 13,
   "metadata": {},
   "outputs": [],
   "source": [
    "#First we reduce string length to create a better chart, with less characters\n",
    "sat_df['corrCompanySize']=np.where(sat_df['CompanySize']==\"I don't know\",\"I don't know\",\n",
    "                                 np.where(sat_df['CompanySize']==\"I prefer not to answer\", \"No Answer\",\n",
    "                                          sat_df['CompanySize'].str.replace(' employees','')))"
   ]
  },
  {
   "cell_type": "code",
   "execution_count": 14,
   "metadata": {},
   "outputs": [],
   "source": [
    "#Create new dataframe, drop nulls and leave only the columns we need\n",
    "company_size_df = sat_df.dropna(subset=['Salary','corrCompanySize'])\n",
    "company_size_df = company_size_df[['JobSatisfaction','Salary','corrCompanySize']]"
   ]
  },
  {
   "cell_type": "code",
   "execution_count": 15,
   "metadata": {},
   "outputs": [],
   "source": [
    "# We need to normalize Salary and JobSatisfaction to make it possible to put them on the same graph\n",
    "\n",
    "#Create Normalization function\n",
    "#Input: a numeric column\n",
    "#Output: column normalized in the range of -1 to 1\n",
    "def normalize(col):\n",
    "    #we get the value with maximum deviation from the mean\n",
    "    max_size = np.amax([col.max()-col.mean(), col.mean()-col.min()])\n",
    "    #and for each value of the column we return the value / maximum daviation\n",
    "    return (col-col.mean())/max_size\n",
    "    #so for the value with maximum daviation we get 1 or -1 (depends if its lower or higher than the mean)\n",
    "    #an for all other values we get a value from -1 to 1"
   ]
  },
  {
   "cell_type": "code",
   "execution_count": 16,
   "metadata": {},
   "outputs": [],
   "source": [
    "#Normalize Salary and JobSatisfaction\n",
    "company_size_df['Salary_Scaled']=normalize(company_size_df['Salary'])\n",
    "company_size_df['JobSatisfaction_Scaled']=normalize(company_size_df['JobSatisfaction'])"
   ]
  },
  {
   "cell_type": "code",
   "execution_count": 17,
   "metadata": {},
   "outputs": [],
   "source": [
    "#Now that we have normalized values, we don't need the original ones and we can drop them:\n",
    "company_size_df.drop(['Salary','JobSatisfaction'],axis=1,inplace=True)"
   ]
  },
  {
   "cell_type": "code",
   "execution_count": 18,
   "metadata": {},
   "outputs": [],
   "source": [
    "#Then we create table for visualisation\n",
    "sz_table = company_size_df.groupby(['corrCompanySize']).mean().sort_values(by=['Salary_Scaled'])"
   ]
  },
  {
   "cell_type": "code",
   "execution_count": 19,
   "metadata": {},
   "outputs": [],
   "source": [
    "#Reindex table to sort them in our desired order:\n",
    "sz_table = sz_table.loc[['Fewer than 10','10 to 19','20 to 99','100 to 499','500 to 999','1,000 to 4,999',\n",
    "                        '5,000 to 9,999','10,000 or more',\"I don't know\",'No Answer']]"
   ]
  },
  {
   "cell_type": "code",
   "execution_count": 20,
   "metadata": {},
   "outputs": [
    {
     "data": {
      "image/png": "[encoded data removed]",
      "text/plain": [
       "<matplotlib.figure.Figure at 0x7fcd1f724be0>"
      ]
     },
     "metadata": {
      "needs_background": "light"
     },
     "output_type": "display_data"
    }
   ],
   "source": [
    "#Finally we reate a Graph\n",
    "sz_plot = sz_table.plot.barh(xlim=(-0.17,0.17))\n",
    "\n",
    "sz_plot.set_title('Avg Job Satisfaction and Avg Salary by Company Size')\n",
    "sz_plot.legend(['Salary','Job Satisfaction'])\n",
    "sz_plot.yaxis.set_label_text(\"\")\n",
    "\n",
    "sz_plot.invert_yaxis()"
   ]
  },
  {
   "cell_type": "code",
   "execution_count": null,
   "metadata": {},
   "outputs": [],
   "source": [
    "#Interesting, as company size increases, so does the average salary, but satisfaction rating decreases."
   ]
  },
  {
   "cell_type": "code",
   "execution_count": null,
   "metadata": {},
   "outputs": [],
   "source": [
    "#Now we can go to our third question:\n",
    "\n",
    "#3. What to assess in potential jobs?\n",
    "\n",
    "#for this we should look at what the most satisfied developers assess in their potential jobs"
   ]
  },
  {
   "cell_type": "code",
   "execution_count": 21,
   "metadata": {},
   "outputs": [
    {
     "name": "stderr",
     "output_type": "stream",
     "text": [
      "/opt/conda/lib/python3.6/site-packages/ipykernel_launcher.py:6: SettingWithCopyWarning: \n",
      "A value is trying to be set on a copy of a slice from a DataFrame.\n",
      "Try using .loc[row_indexer,col_indexer] = value instead\n",
      "\n",
      "See the caveats in the documentation: http://pandas.pydata.org/pandas-docs/stable/indexing.html#indexing-view-versus-copy\n",
      "  \n"
     ]
    }
   ],
   "source": [
    "#So we need a dataframe with JobSatisfaction and all the \"Assess\" columns\n",
    "#first we create new dataframe\n",
    "assess_df = sat_df[['JobSatisfaction']]\n",
    "\n",
    "#add all the columns that contain \"Assess\" with a loop\n",
    "for col in list(sat_df.columns):\n",
    "    if \"Assess\" in col:\n",
    "        assess_df[col]=sat_df[col]"
   ]
  },
  {
   "cell_type": "code",
   "execution_count": 22,
   "metadata": {},
   "outputs": [
    {
     "data": {
      "text/plain": [
       "JobSatisfaction             0\n",
       "AssessJobIndustry        7208\n",
       "AssessJobRole            7204\n",
       "AssessJobExp             7211\n",
       "AssessJobDept            7219\n",
       "AssessJobTech            7195\n",
       "AssessJobProjects        7197\n",
       "AssessJobCompensation    7200\n",
       "AssessJobOffice          7259\n",
       "AssessJobCommute         7256\n",
       "AssessJobRemote          7242\n",
       "AssessJobLeaders         7256\n",
       "AssessJobProfDevel       7250\n",
       "AssessJobDiversity       7264\n",
       "AssessJobProduct         7259\n",
       "AssessJobFinances        7247\n",
       "dtype: int64"
      ]
     },
     "execution_count": 22,
     "metadata": {},
     "output_type": "execute_result"
    }
   ],
   "source": [
    "#Check nulls\n",
    "assess_df.isna().sum()"
   ]
  },
  {
   "cell_type": "code",
   "execution_count": 23,
   "metadata": {},
   "outputs": [
    {
     "name": "stderr",
     "output_type": "stream",
     "text": [
      "/opt/conda/lib/python3.6/site-packages/ipykernel_launcher.py:2: SettingWithCopyWarning: \n",
      "A value is trying to be set on a copy of a slice from a DataFrame\n",
      "\n",
      "See the caveats in the documentation: http://pandas.pydata.org/pandas-docs/stable/indexing.html#indexing-view-versus-copy\n",
      "  \n"
     ]
    }
   ],
   "source": [
    "#That's a lot of nulls, let's drop them\n",
    "assess_df.dropna(inplace=True)"
   ]
  },
  {
   "cell_type": "code",
   "execution_count": 24,
   "metadata": {},
   "outputs": [],
   "source": [
    "#We need to create heatmap with Importance on x Axis and what developers assess on Y. Let's create such table:\n",
    "#Unpivot Data\n",
    "assess_table = pd.melt(assess_df, id_vars=['JobSatisfaction'], value_vars=['AssessJobIndustry', 'AssessJobRole', 'AssessJobExp',\n",
    "       'AssessJobDept', 'AssessJobTech', 'AssessJobProjects',\n",
    "       'AssessJobCompensation', 'AssessJobOffice', 'AssessJobCommute',\n",
    "       'AssessJobRemote', 'AssessJobLeaders', 'AssessJobProfDevel',\n",
    "       'AssessJobDiversity', 'AssessJobProduct', 'AssessJobFinances'])"
   ]
  },
  {
   "cell_type": "code",
   "execution_count": 25,
   "metadata": {},
   "outputs": [],
   "source": [
    "#Group data by what people assess and importance\n",
    "assess_table = assess_table.groupby(['variable','value']).mean()"
   ]
  },
  {
   "cell_type": "code",
   "execution_count": 26,
   "metadata": {},
   "outputs": [],
   "source": [
    "#Reindex to create pivottable\n",
    "assess_table = assess_table.reset_index()\n",
    "\n",
    "#Create pivottable\n",
    "assess_table = assess_table.pivot(index='variable', columns='value', values='JobSatisfaction')"
   ]
  },
  {
   "cell_type": "code",
   "execution_count": 27,
   "metadata": {},
   "outputs": [],
   "source": [
    "#Rearrange columns to give importance ascending order\n",
    "assess_table=assess_table[['Not at all important','Not very important','Somewhat important','Important','Very important']]"
   ]
  },
  {
   "cell_type": "code",
   "execution_count": 28,
   "metadata": {},
   "outputs": [
    {
     "data": {
      "text/plain": [
       "[Text(0.5,0,'Not at all important'),\n",
       " Text(1.5,0,'Not very important'),\n",
       " Text(2.5,0,'Somewhat important'),\n",
       " Text(3.5,0,'Important'),\n",
       " Text(4.5,0,'Very important')]"
      ]
     },
     "execution_count": 28,
     "metadata": {},
     "output_type": "execute_result"
    },
    {
     "data": {
      "image/png": "[encoded data removed]",
      "text/plain": [
       "<matplotlib.figure.Figure at 0x7fcd1f46fdd8>"
      ]
     },
     "metadata": {
      "needs_background": "light"
     },
     "output_type": "display_data"
    }
   ],
   "source": [
    "#Create Heatmap\n",
    "ax = sns.heatmap(assess_table, cmap=\"YlGnBu\", annot=True)\n",
    "ax.set_title('What do developers look for in a job?')\n",
    "ax.set_ylabel('')\n",
    "ax.set_xlabel('')\n",
    "ax.set_xticklabels(ax.get_xticklabels(), rotation=45)"
   ]
  },
  {
   "cell_type": "code",
   "execution_count": null,
   "metadata": {},
   "outputs": [],
   "source": [
    "# There are 2 important findings in the heatmap:\n",
    "# 1. Developers don't find it important to AssessJobCompensation or AssessJobRemote have relatively low satisfaction rate\n",
    "# 2. Developers who Find all the criteria Somwhat important, important or very important, have realtively high satisfaction rate"
   ]
  }
 ],
 "metadata": {
  "kernelspec": {
   "display_name": "Python 3",
   "language": "python",
   "name": "python3"
  },
  "language_info": {
   "codemirror_mode": {
    "name": "ipython",
    "version": 3
   },
   "file_extension": ".py",
   "mimetype": "text/x-python",
   "name": "python",
   "nbconvert_exporter": "python",
   "pygments_lexer": "ipython3",
   "version": "3.6.3"
  }
 },
 "nbformat": 4,
 "nbformat_minor": 2
}
